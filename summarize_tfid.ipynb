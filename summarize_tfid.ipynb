{
 "cells": [
  {
   "cell_type": "code",
   "execution_count": 41,
   "metadata": {},
   "outputs": [],
   "source": [
    "import nltk\n",
    "import numpy\n",
    "import pandas\n",
    "import math\n",
    "import operator\n",
    "import os\n",
    "import re\n",
    "from nltk.tokenize import sent_tokenize,word_tokenize\n",
    "from nltk.stem import WordNetLemmatizer\n",
    "lemmatizer = WordNetLemmatizer()\n",
    "from nltk.corpus import stopwords\n",
    "stopwords_set = set(stopwords.words('english'))\n",
    "#nltk.download('averaged_perceptron_tagger')\n",
    "\n"
   ]
  },
  {
   "cell_type": "code",
   "execution_count": 42,
   "metadata": {},
   "outputs": [
    {
     "name": "stdout",
     "output_type": "stream",
     "text": [
      "India is the land of people of diverse religions, traditions and castes. People of India represent the essence of our country. The diverse colours of India are its cultures, traditions and religions. It is the land of rich vegetation and wildlife. Art and entertainment is the life of India.\n",
      "\n",
      "You will find below a number of short and long paragraphs on India. We hope these India paragraphs will help students in completing their school assignments. These will also help children to write and read out paragraphs with simple words and small sentences. Students can select any paragraph on India according to their particular requirement.\n",
      "\n",
      "India is our nation. It is located in the center of South Asia. In world, Republic of India is the seventh largest country by area and the second most populated country after China. India takes honour in being the largest democracy in the world. India is a diverse country with diverse cultures, languages, climates and geography. India is a federation under republic government governed under parliamentary system. There are twenty nine states and seven union territories in India. The national capital of India is Delhi.\n",
      "\n",
      "India is well known for its rich culture and cuisines, diverse wildlife, flora and fauna as well as for its genius minds that have made us proud around the globe\n",
      "\n",
      "India is a vast country with second highest population in the world. It is a country with diverse cultures, traditions and beliefs. People in India celebrate unity in diversity. Festivals like Diwali, Holi, Navratri, Ramzan, Christmas etc. are celebrated by people across India and create a sense of brotherhood and cultural unity. Each festival has its religious and cultural importance.\n",
      "\n"
     ]
    }
   ],
   "source": [
    "f = open(\"sample.txt\", \"r\")\n",
    "text = f.read()\n",
    "print(text)\n",
    "text=text.strip().replace('\\n', ' ')\n",
    "sentence_tokenized = sent_tokenize(text)\n",
    "regex = r'[^a-zA-Z0-9\\s]'\n",
    "text = re.sub(regex,'',str(text))\n",
    "text = re.sub(r'\\d+', '', text)\n",
    "words_tokenized_stopwords = word_tokenize(text)"
   ]
  },
  {
   "cell_type": "code",
   "execution_count": 43,
   "metadata": {},
   "outputs": [
    {
     "name": "stdout",
     "output_type": "stream",
     "text": [
      "Tokenized words including stop words:\n",
      "['India', 'is', 'the', 'land', 'of', 'people', 'of', 'diverse', 'religions', 'traditions', 'and', 'castes', 'People', 'of', 'India', 'represent', 'the', 'essence', 'of', 'our', 'country', 'The', 'diverse', 'colours', 'of', 'India', 'are', 'its', 'cultures', 'traditions', 'and', 'religions', 'It', 'is', 'the', 'land', 'of', 'rich', 'vegetation', 'and', 'wildlife', 'Art', 'and', 'entertainment', 'is', 'the', 'life', 'of', 'India', 'You', 'will', 'find', 'below', 'a', 'number', 'of', 'short', 'and', 'long', 'paragraphs', 'on', 'India', 'We', 'hope', 'these', 'India', 'paragraphs', 'will', 'help', 'students', 'in', 'completing', 'their', 'school', 'assignments', 'These', 'will', 'also', 'help', 'children', 'to', 'write', 'and', 'read', 'out', 'paragraphs', 'with', 'simple', 'words', 'and', 'small', 'sentences', 'Students', 'can', 'select', 'any', 'paragraph', 'on', 'India', 'according', 'to', 'their', 'particular', 'requirement', 'India', 'is', 'our', 'nation', 'It', 'is', 'located', 'in', 'the', 'center', 'of', 'South', 'Asia', 'In', 'world', 'Republic', 'of', 'India', 'is', 'the', 'seventh', 'largest', 'country', 'by', 'area', 'and', 'the', 'second', 'most', 'populated', 'country', 'after', 'China', 'India', 'takes', 'honour', 'in', 'being', 'the', 'largest', 'democracy', 'in', 'the', 'world', 'India', 'is', 'a', 'diverse', 'country', 'with', 'diverse', 'cultures', 'languages', 'climates', 'and', 'geography', 'India', 'is', 'a', 'federation', 'under', 'republic', 'government', 'governed', 'under', 'parliamentary', 'system', 'There', 'are', 'twenty', 'nine', 'states', 'and', 'seven', 'union', 'territories', 'in', 'India', 'The', 'national', 'capital', 'of', 'India', 'is', 'Delhi', 'India', 'is', 'well', 'known', 'for', 'its', 'rich', 'culture', 'and', 'cuisines', 'diverse', 'wildlife', 'flora', 'and', 'fauna', 'as', 'well', 'as', 'for', 'its', 'genius', 'minds', 'that', 'have', 'made', 'us', 'proud', 'around', 'the', 'globe', 'India', 'is', 'a', 'vast', 'country', 'with', 'second', 'highest', 'population', 'in', 'the', 'world', 'It', 'is', 'a', 'country', 'with', 'diverse', 'cultures', 'traditions', 'and', 'beliefs', 'People', 'in', 'India', 'celebrate', 'unity', 'in', 'diversity', 'Festivals', 'like', 'Diwali', 'Holi', 'Navratri', 'Ramzan', 'Christmas', 'etc', 'are', 'celebrated', 'by', 'people', 'across', 'India', 'and', 'create', 'a', 'sense', 'of', 'brotherhood', 'and', 'cultural', 'unity', 'Each', 'festival', 'has', 'its', 'religious', 'and', 'cultural', 'importance']\n"
     ]
    }
   ],
   "source": [
    "print(\"Tokenized words including stop words:\")\n",
    "print(words_tokenized_stopwords)"
   ]
  },
  {
   "cell_type": "code",
   "execution_count": 44,
   "metadata": {},
   "outputs": [
    {
     "name": "stdout",
     "output_type": "stream",
     "text": [
      "Tokenized sentences:\n",
      "['India is the land of people of diverse religions, traditions and castes.', 'People of India represent the essence of our country.', 'The diverse colours of India are its cultures, traditions and religions.', 'It is the land of rich vegetation and wildlife.', 'Art and entertainment is the life of India.', 'You will find below a number of short and long paragraphs on India.', 'We hope these India paragraphs will help students in completing their school assignments.', 'These will also help children to write and read out paragraphs with simple words and small sentences.', 'Students can select any paragraph on India according to their particular requirement.', 'India is our nation.', 'It is located in the center of South Asia.', 'In world, Republic of India is the seventh largest country by area and the second most populated country after China.', 'India takes honour in being the largest democracy in the world.', 'India is a diverse country with diverse cultures, languages, climates and geography.', 'India is a federation under republic government governed under parliamentary system.', 'There are twenty nine states and seven union territories in India.', 'The national capital of India is Delhi.', 'India is well known for its rich culture and cuisines, diverse wildlife, flora and fauna as well as for its genius minds that have made us proud around the globe  India is a vast country with second highest population in the world.', 'It is a country with diverse cultures, traditions and beliefs.', 'People in India celebrate unity in diversity.', 'Festivals like Diwali, Holi, Navratri, Ramzan, Christmas etc.', 'are celebrated by people across India and create a sense of brotherhood and cultural unity.', 'Each festival has its religious and cultural importance.']\n"
     ]
    }
   ],
   "source": [
    "print(\"Tokenized sentences:\")\n",
    "print(sentence_tokenized)"
   ]
  },
  {
   "cell_type": "code",
   "execution_count": 45,
   "metadata": {},
   "outputs": [],
   "source": [
    "words_tokenized = [word for word in words_tokenized_stopwords if word not in stopwords_set]\n",
    "words_tokenized = [word for word in words_tokenized if len(word) > 1]\n",
    "words_tokenized = [word.lower() for word in words_tokenized]"
   ]
  },
  {
   "cell_type": "code",
   "execution_count": 46,
   "metadata": {},
   "outputs": [
    {
     "name": "stdout",
     "output_type": "stream",
     "text": [
      "Tokenized words without stop words, converted to lower case:\n",
      "['india', 'land', 'people', 'diverse', 'religions', 'traditions', 'castes', 'people', 'india', 'represent', 'essence', 'country', 'the', 'diverse', 'colours', 'india', 'cultures', 'traditions', 'religions', 'it', 'land', 'rich', 'vegetation', 'wildlife', 'art', 'entertainment', 'life', 'india', 'you', 'find', 'number', 'short', 'long', 'paragraphs', 'india', 'we', 'hope', 'india', 'paragraphs', 'help', 'students', 'completing', 'school', 'assignments', 'these', 'also', 'help', 'children', 'write', 'read', 'paragraphs', 'simple', 'words', 'small', 'sentences', 'students', 'select', 'paragraph', 'india', 'according', 'particular', 'requirement', 'india', 'nation', 'it', 'located', 'center', 'south', 'asia', 'in', 'world', 'republic', 'india', 'seventh', 'largest', 'country', 'area', 'second', 'populated', 'country', 'china', 'india', 'takes', 'honour', 'largest', 'democracy', 'world', 'india', 'diverse', 'country', 'diverse', 'cultures', 'languages', 'climates', 'geography', 'india', 'federation', 'republic', 'government', 'governed', 'parliamentary', 'system', 'there', 'twenty', 'nine', 'states', 'seven', 'union', 'territories', 'india', 'the', 'national', 'capital', 'india', 'delhi', 'india', 'well', 'known', 'rich', 'culture', 'cuisines', 'diverse', 'wildlife', 'flora', 'fauna', 'well', 'genius', 'minds', 'made', 'us', 'proud', 'around', 'globe', 'india', 'vast', 'country', 'second', 'highest', 'population', 'world', 'it', 'country', 'diverse', 'cultures', 'traditions', 'beliefs', 'people', 'india', 'celebrate', 'unity', 'diversity', 'festivals', 'like', 'diwali', 'holi', 'navratri', 'ramzan', 'christmas', 'etc', 'celebrated', 'people', 'across', 'india', 'create', 'sense', 'brotherhood', 'cultural', 'unity', 'each', 'festival', 'religious', 'cultural', 'importance']\n"
     ]
    }
   ],
   "source": [
    "print(\"Tokenized words without stop words, converted to lower case:\")\n",
    "print(words_tokenized)"
   ]
  },
  {
   "cell_type": "code",
   "execution_count": 47,
   "metadata": {},
   "outputs": [],
   "source": [
    "word_lemmatized = []\n",
    "for word in words_tokenized:\n",
    "    word_lemmatized.append(lemmatizer.lemmatize(word))\n",
    "words_tokenized = word_lemmatized"
   ]
  },
  {
   "cell_type": "code",
   "execution_count": 48,
   "metadata": {},
   "outputs": [
    {
     "name": "stdout",
     "output_type": "stream",
     "text": [
      "Lemmatized Tokenized words:\n",
      "['india', 'land', 'people', 'diverse', 'religion', 'tradition', 'caste', 'people', 'india', 'represent', 'essence', 'country', 'the', 'diverse', 'colour', 'india', 'culture', 'tradition', 'religion', 'it', 'land', 'rich', 'vegetation', 'wildlife', 'art', 'entertainment', 'life', 'india', 'you', 'find', 'number', 'short', 'long', 'paragraph', 'india', 'we', 'hope', 'india', 'paragraph', 'help', 'student', 'completing', 'school', 'assignment', 'these', 'also', 'help', 'child', 'write', 'read', 'paragraph', 'simple', 'word', 'small', 'sentence', 'student', 'select', 'paragraph', 'india', 'according', 'particular', 'requirement', 'india', 'nation', 'it', 'located', 'center', 'south', 'asia', 'in', 'world', 'republic', 'india', 'seventh', 'largest', 'country', 'area', 'second', 'populated', 'country', 'china', 'india', 'take', 'honour', 'largest', 'democracy', 'world', 'india', 'diverse', 'country', 'diverse', 'culture', 'language', 'climate', 'geography', 'india', 'federation', 'republic', 'government', 'governed', 'parliamentary', 'system', 'there', 'twenty', 'nine', 'state', 'seven', 'union', 'territory', 'india', 'the', 'national', 'capital', 'india', 'delhi', 'india', 'well', 'known', 'rich', 'culture', 'cuisine', 'diverse', 'wildlife', 'flora', 'fauna', 'well', 'genius', 'mind', 'made', 'u', 'proud', 'around', 'globe', 'india', 'vast', 'country', 'second', 'highest', 'population', 'world', 'it', 'country', 'diverse', 'culture', 'tradition', 'belief', 'people', 'india', 'celebrate', 'unity', 'diversity', 'festival', 'like', 'diwali', 'holi', 'navratri', 'ramzan', 'christmas', 'etc', 'celebrated', 'people', 'across', 'india', 'create', 'sense', 'brotherhood', 'cultural', 'unity', 'each', 'festival', 'religious', 'cultural', 'importance']\n"
     ]
    }
   ],
   "source": [
    "print(\"Lemmatized Tokenized words:\")\n",
    "print(words_tokenized)"
   ]
  },
  {
   "cell_type": "code",
   "execution_count": 49,
   "metadata": {},
   "outputs": [],
   "source": [
    "def tagging_pos(text):\n",
    "    tagger_pos = nltk.pos_tag(text.split())\n",
    "    tagger_pos_noun_verb = []\n",
    "    for word,tag in tagger_pos:\n",
    "        if tag == \"NN\" or tag == \"NNP\" or tag == \"NNS\" or tag == \"VB\" or tag == \"VBD\" or tag == \"VBG\" or tag == \"VBN\" or tag == \"VBP\" or tag == \"VBZ\":\n",
    "             tagger_pos_noun_verb.append(word)\n",
    "    return tagger_pos_noun_verb"
   ]
  },
  {
   "cell_type": "code",
   "execution_count": 50,
   "metadata": {},
   "outputs": [],
   "source": [
    "def word_frequency(words):\n",
    "    words = [word.lower() for word in words]\n",
    "    frequency_dict = {}\n",
    "    unique_word = []\n",
    "    for word in words:\n",
    "        if word not in unique_word:\n",
    "            unique_word.append(word)\n",
    "    for word in unique_word:\n",
    "        frequency_dict[word] = words.count(word)\n",
    "    return frequency_dict"
   ]
  },
  {
   "cell_type": "code",
   "execution_count": 51,
   "metadata": {},
   "outputs": [],
   "source": [
    "def term_frequency(word,sentence):\n",
    "    sentence_l = len(sentence)\n",
    "    frequency_word_sentence = 0\n",
    "    for word_in_sentence in sentence.split():\n",
    "        if word == word_in_sentence:\n",
    "            frequency_word_sentence = frequency_word_sentence + 1\n",
    "    tf_score =  frequency_word_sentence/ sentence_l\n",
    "    return tf_score"
   ]
  },
  {
   "cell_type": "code",
   "execution_count": 52,
   "metadata": {},
   "outputs": [],
   "source": [
    "def inverse_doc_freq(no_of_sentences,word,sentences):\n",
    "    nos_word = 0\n",
    "    for sentence in sentences:\n",
    "        regex = r'[^a-zA-Z0-9\\s]'\n",
    "        sentence = re.sub(regex,'',str(sentence))\n",
    "        sentence = re.sub(r'\\d+', '', sentence)\n",
    "        sentence = sentence.split()\n",
    "        sentence = [word for word in sentence if word.lower() not in stopwords_set and len(word)>1]\n",
    "        sentence = [word.lower() for word in sentence]\n",
    "        sentence = [lemmatizer.lemmatize(word) for word in sentence]\n",
    "        if word in sentence:\n",
    "            nos_word = nos_word + 1\n",
    "    idf_score = math.log10(no_of_sentences/nos_word)\n",
    "    return idf_score"
   ]
  },
  {
   "cell_type": "code",
   "execution_count": 53,
   "metadata": {},
   "outputs": [],
   "source": [
    "def tfidf_score(tf,idf):\n",
    "    return tf*idf"
   ]
  },
  {
   "cell_type": "code",
   "execution_count": 54,
   "metadata": {},
   "outputs": [],
   "source": [
    "def tfidf(dict_freq,word,sentences,sentence):\n",
    "    tf = term_frequency(word,sentence)\n",
    "    idf = inverse_doc_freq(len(sentences),word,sentences)\n",
    "    tf_idf = tfidf_score(tf,idf)\n",
    "    return tf_idf"
   ]
  },
  {
   "cell_type": "code",
   "execution_count": 55,
   "metadata": {},
   "outputs": [],
   "source": [
    "def sentence_importance(sentence,dict_freq,sentences):\n",
    "    sentence_score = 0\n",
    "    regex = r'[^a-zA-Z0-9\\s]'\n",
    "    sentence = re.sub(regex,'',str(sentence))\n",
    "    sentence = re.sub(r'\\d+', '', sentence)\n",
    "    pos_sentence = [] \n",
    "    no_of_sentences = len(sentences)\n",
    "    pos_sentence = tagging_pos(sentence)\n",
    "    for word in pos_sentence:\n",
    "        if word.lower() not in stopwords_set and word not in stopwords_set and len(word)>1: \n",
    "            word = word.lower()\n",
    "            word = lemmatizer.lemmatize(word)\n",
    "            sentence_score = sentence_score + tfidf(dict_freq,word,sentences,sentence)\n",
    "    return sentence_score"
   ]
  },
  {
   "cell_type": "code",
   "execution_count": 57,
   "metadata": {},
   "outputs": [
    {
     "name": "stdout",
     "output_type": "stream",
     "text": [
      "\n",
      "\n",
      "Summary generated:\n",
      "People of India represent the essence of our country. It is the land of rich vegetation and wildlife. Art and entertainment is the life of India. You will find below a number of short and long paragraphs on India. We hope these India paragraphs will help students in completing their school assignments. These will also help children to write and read out paragraphs with simple words and small sentences. Students can select any paragraph on India according to their particular requirement. India is our nation. It is located in the center of South Asia. In world, Republic of India is the seventh largest country by area and the second most populated country after China. India takes honour in being the largest democracy in the world. India is a federation under republic government governed under parliamentary system. India is well known for its rich culture and cuisines, diverse wildlife, flora and fauna as well as for its genius minds that have made us proud around the globe  India is a vast country with second highest population in the world. People in India celebrate unity in diversity. are celebrated by people across India and create a sense of brotherhood and cultural unity. Each festival has its religious and cultural importance.\n"
     ]
    },
    {
     "data": {
      "text/plain": [
       "1249"
      ]
     },
     "execution_count": 57,
     "metadata": {},
     "output_type": "execute_result"
    }
   ],
   "source": [
    "word_freq = word_frequency(words_tokenized)\n",
    "no_of_sentences = int((70 * len(sentence_tokenized))/100)\n",
    "c = 1\n",
    "sentence_with_importance = {}\n",
    "for sent in sentence_tokenized:\n",
    "    sentenceimp = sentence_importance(sent,word_freq,sentence_tokenized)\n",
    "    sentence_with_importance[c] = sentenceimp\n",
    "    c = c+1\n",
    "sentence_with_importance = sorted(sentence_with_importance.items(), key=operator.itemgetter(1),reverse=True)\n",
    "cnt = 0\n",
    "summary = []\n",
    "sentence_no = []\n",
    "for word_prob in sentence_with_importance:\n",
    "    if cnt < no_of_sentences:\n",
    "        sentence_no.append(word_prob[0])\n",
    "        cnt = cnt+1\n",
    "    else:\n",
    "        break\n",
    "sentence_no.sort()\n",
    "cnt = 1\n",
    "for sentence in sentence_tokenized:\n",
    "    if cnt in sentence_no:\n",
    "        summary.append(sentence)\n",
    "    cnt = cnt+1\n",
    "    \n",
    "summary = \" \".join(summary)\n",
    "print(\"\\n\")\n",
    "print(\"Summary generated:\")\n",
    "print(summary)\n",
    "\n",
    "outF = open('summary.txt',\"w\")\n",
    "outF.write(summary)"
   ]
  },
  {
   "cell_type": "code",
   "execution_count": null,
   "metadata": {},
   "outputs": [],
   "source": []
  }
 ],
 "metadata": {
  "kernelspec": {
   "display_name": "Python 3",
   "language": "python",
   "name": "python3"
  },
  "language_info": {
   "codemirror_mode": {
    "name": "ipython",
    "version": 3
   },
   "file_extension": ".py",
   "mimetype": "text/x-python",
   "name": "python",
   "nbconvert_exporter": "python",
   "pygments_lexer": "ipython3",
   "version": "3.7.6"
  }
 },
 "nbformat": 4,
 "nbformat_minor": 4
}
